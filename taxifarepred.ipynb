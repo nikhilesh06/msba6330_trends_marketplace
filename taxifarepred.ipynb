{
 "cells": [
  {
   "cell_type": "markdown",
   "id": "80f3df52",
   "metadata": {},
   "source": [
    "# Import Packages"
   ]
  },
  {
   "cell_type": "code",
   "execution_count": 6,
   "id": "a6997231",
   "metadata": {},
   "outputs": [],
   "source": [
    "# import necessary library for training\n",
    "import numpy as np \n",
    "import pandas as pd \n",
    "from subprocess import check_output\n",
    "from sklearn.metrics import make_scorer, mean_squared_error\n",
    "from sklearn.model_selection import train_test_split\n",
    "from sklearn import preprocessing\n",
    "import seaborn as sns\n",
    "import matplotlib.pyplot as plt"
   ]
  },
  {
   "cell_type": "markdown",
   "id": "1a55dab0",
   "metadata": {},
   "source": [
    "# Import Data"
   ]
  },
  {
   "cell_type": "code",
   "execution_count": 7,
   "id": "a4e50268",
   "metadata": {},
   "outputs": [
    {
     "data": {
      "text/html": [
       "<div>\n",
       "<style scoped>\n",
       "    .dataframe tbody tr th:only-of-type {\n",
       "        vertical-align: middle;\n",
       "    }\n",
       "\n",
       "    .dataframe tbody tr th {\n",
       "        vertical-align: top;\n",
       "    }\n",
       "\n",
       "    .dataframe thead th {\n",
       "        text-align: right;\n",
       "    }\n",
       "</style>\n",
       "<table border=\"1\" class=\"dataframe\">\n",
       "  <thead>\n",
       "    <tr style=\"text-align: right;\">\n",
       "      <th></th>\n",
       "      <th>VendorID</th>\n",
       "      <th>tpep_pickup_datetime</th>\n",
       "      <th>tpep_dropoff_datetime</th>\n",
       "      <th>passenger_count</th>\n",
       "      <th>trip_distance</th>\n",
       "      <th>RatecodeID</th>\n",
       "      <th>store_and_fwd_flag</th>\n",
       "      <th>PULocationID</th>\n",
       "      <th>DOLocationID</th>\n",
       "      <th>payment_type</th>\n",
       "      <th>fare_amount</th>\n",
       "      <th>extra</th>\n",
       "      <th>mta_tax</th>\n",
       "      <th>tip_amount</th>\n",
       "      <th>tolls_amount</th>\n",
       "      <th>improvement_surcharge</th>\n",
       "      <th>total_amount</th>\n",
       "      <th>congestion_surcharge</th>\n",
       "    </tr>\n",
       "  </thead>\n",
       "  <tbody>\n",
       "    <tr>\n",
       "      <th>0</th>\n",
       "      <td>1.0</td>\n",
       "      <td>2021-01-01 00:30:10</td>\n",
       "      <td>2021-01-01 00:36:12</td>\n",
       "      <td>1.0</td>\n",
       "      <td>2.10</td>\n",
       "      <td>1.0</td>\n",
       "      <td>N</td>\n",
       "      <td>142</td>\n",
       "      <td>43</td>\n",
       "      <td>2.0</td>\n",
       "      <td>8.0</td>\n",
       "      <td>3.0</td>\n",
       "      <td>0.5</td>\n",
       "      <td>0.00</td>\n",
       "      <td>0.0</td>\n",
       "      <td>0.3</td>\n",
       "      <td>11.80</td>\n",
       "      <td>2.5</td>\n",
       "    </tr>\n",
       "    <tr>\n",
       "      <th>1</th>\n",
       "      <td>1.0</td>\n",
       "      <td>2021-01-01 00:51:20</td>\n",
       "      <td>2021-01-01 00:52:19</td>\n",
       "      <td>1.0</td>\n",
       "      <td>0.20</td>\n",
       "      <td>1.0</td>\n",
       "      <td>N</td>\n",
       "      <td>238</td>\n",
       "      <td>151</td>\n",
       "      <td>2.0</td>\n",
       "      <td>3.0</td>\n",
       "      <td>0.5</td>\n",
       "      <td>0.5</td>\n",
       "      <td>0.00</td>\n",
       "      <td>0.0</td>\n",
       "      <td>0.3</td>\n",
       "      <td>4.30</td>\n",
       "      <td>0.0</td>\n",
       "    </tr>\n",
       "    <tr>\n",
       "      <th>2</th>\n",
       "      <td>1.0</td>\n",
       "      <td>2021-01-01 00:43:30</td>\n",
       "      <td>2021-01-01 01:11:06</td>\n",
       "      <td>1.0</td>\n",
       "      <td>14.70</td>\n",
       "      <td>1.0</td>\n",
       "      <td>N</td>\n",
       "      <td>132</td>\n",
       "      <td>165</td>\n",
       "      <td>1.0</td>\n",
       "      <td>42.0</td>\n",
       "      <td>0.5</td>\n",
       "      <td>0.5</td>\n",
       "      <td>8.65</td>\n",
       "      <td>0.0</td>\n",
       "      <td>0.3</td>\n",
       "      <td>51.95</td>\n",
       "      <td>0.0</td>\n",
       "    </tr>\n",
       "    <tr>\n",
       "      <th>3</th>\n",
       "      <td>1.0</td>\n",
       "      <td>2021-01-01 00:15:48</td>\n",
       "      <td>2021-01-01 00:31:01</td>\n",
       "      <td>0.0</td>\n",
       "      <td>10.60</td>\n",
       "      <td>1.0</td>\n",
       "      <td>N</td>\n",
       "      <td>138</td>\n",
       "      <td>132</td>\n",
       "      <td>1.0</td>\n",
       "      <td>29.0</td>\n",
       "      <td>0.5</td>\n",
       "      <td>0.5</td>\n",
       "      <td>6.05</td>\n",
       "      <td>0.0</td>\n",
       "      <td>0.3</td>\n",
       "      <td>36.35</td>\n",
       "      <td>0.0</td>\n",
       "    </tr>\n",
       "    <tr>\n",
       "      <th>4</th>\n",
       "      <td>2.0</td>\n",
       "      <td>2021-01-01 00:31:49</td>\n",
       "      <td>2021-01-01 00:48:21</td>\n",
       "      <td>1.0</td>\n",
       "      <td>4.94</td>\n",
       "      <td>1.0</td>\n",
       "      <td>N</td>\n",
       "      <td>68</td>\n",
       "      <td>33</td>\n",
       "      <td>1.0</td>\n",
       "      <td>16.5</td>\n",
       "      <td>0.5</td>\n",
       "      <td>0.5</td>\n",
       "      <td>4.06</td>\n",
       "      <td>0.0</td>\n",
       "      <td>0.3</td>\n",
       "      <td>24.36</td>\n",
       "      <td>2.5</td>\n",
       "    </tr>\n",
       "  </tbody>\n",
       "</table>\n",
       "</div>"
      ],
      "text/plain": [
       "   VendorID tpep_pickup_datetime tpep_dropoff_datetime  passenger_count  \\\n",
       "0       1.0  2021-01-01 00:30:10   2021-01-01 00:36:12              1.0   \n",
       "1       1.0  2021-01-01 00:51:20   2021-01-01 00:52:19              1.0   \n",
       "2       1.0  2021-01-01 00:43:30   2021-01-01 01:11:06              1.0   \n",
       "3       1.0  2021-01-01 00:15:48   2021-01-01 00:31:01              0.0   \n",
       "4       2.0  2021-01-01 00:31:49   2021-01-01 00:48:21              1.0   \n",
       "\n",
       "   trip_distance  RatecodeID store_and_fwd_flag  PULocationID  DOLocationID  \\\n",
       "0           2.10         1.0                  N           142            43   \n",
       "1           0.20         1.0                  N           238           151   \n",
       "2          14.70         1.0                  N           132           165   \n",
       "3          10.60         1.0                  N           138           132   \n",
       "4           4.94         1.0                  N            68            33   \n",
       "\n",
       "   payment_type  fare_amount  extra  mta_tax  tip_amount  tolls_amount  \\\n",
       "0           2.0          8.0    3.0      0.5        0.00           0.0   \n",
       "1           2.0          3.0    0.5      0.5        0.00           0.0   \n",
       "2           1.0         42.0    0.5      0.5        8.65           0.0   \n",
       "3           1.0         29.0    0.5      0.5        6.05           0.0   \n",
       "4           1.0         16.5    0.5      0.5        4.06           0.0   \n",
       "\n",
       "   improvement_surcharge  total_amount  congestion_surcharge  \n",
       "0                    0.3         11.80                   2.5  \n",
       "1                    0.3          4.30                   0.0  \n",
       "2                    0.3         51.95                   0.0  \n",
       "3                    0.3         36.35                   0.0  \n",
       "4                    0.3         24.36                   2.5  "
      ]
     },
     "execution_count": 7,
     "metadata": {},
     "output_type": "execute_result"
    }
   ],
   "source": [
    "bucket='test2642022'\n",
    "data_key = 'yellow_tripdata_2021-01.csv'\n",
    "data_location = 's3://{}/{}'.format(bucket, data_key)\n",
    "\n",
    "df=pd.read_csv(data_location,dtype={\"store_and_fwd_flag\": str})\n",
    "df.head()"
   ]
  },
  {
   "cell_type": "code",
   "execution_count": 8,
   "id": "7d34aea7",
   "metadata": {},
   "outputs": [
    {
     "data": {
      "text/plain": [
       "(1369765, 18)"
      ]
     },
     "execution_count": 8,
     "metadata": {},
     "output_type": "execute_result"
    }
   ],
   "source": [
    "df.shape"
   ]
  },
  {
   "cell_type": "code",
   "execution_count": 4,
   "id": "1e14d98d",
   "metadata": {},
   "outputs": [
    {
     "name": "stdout",
     "output_type": "stream",
     "text": [
      "<class 'pandas.core.frame.DataFrame'>\n",
      "RangeIndex: 1369765 entries, 0 to 1369764\n",
      "Data columns (total 18 columns):\n",
      " #   Column                 Non-Null Count    Dtype  \n",
      "---  ------                 --------------    -----  \n",
      " 0   VendorID               1271413 non-null  float64\n",
      " 1   tpep_pickup_datetime   1369765 non-null  object \n",
      " 2   tpep_dropoff_datetime  1369765 non-null  object \n",
      " 3   passenger_count        1271413 non-null  float64\n",
      " 4   trip_distance          1369765 non-null  float64\n",
      " 5   RatecodeID             1271413 non-null  float64\n",
      " 6   store_and_fwd_flag     1271413 non-null  object \n",
      " 7   PULocationID           1369765 non-null  int64  \n",
      " 8   DOLocationID           1369765 non-null  int64  \n",
      " 9   payment_type           1271413 non-null  float64\n",
      " 10  fare_amount            1369765 non-null  float64\n",
      " 11  extra                  1369765 non-null  float64\n",
      " 12  mta_tax                1369765 non-null  float64\n",
      " 13  tip_amount             1369765 non-null  float64\n",
      " 14  tolls_amount           1369765 non-null  float64\n",
      " 15  improvement_surcharge  1369765 non-null  float64\n",
      " 16  total_amount           1369765 non-null  float64\n",
      " 17  congestion_surcharge   1369765 non-null  float64\n",
      "dtypes: float64(13), int64(2), object(3)\n",
      "memory usage: 188.1+ MB\n"
     ]
    }
   ],
   "source": [
    "df.info()"
   ]
  },
  {
   "cell_type": "code",
   "execution_count": 5,
   "id": "4d909d49",
   "metadata": {},
   "outputs": [
    {
     "data": {
      "text/plain": [
       "VendorID                 98352\n",
       "tpep_pickup_datetime         0\n",
       "tpep_dropoff_datetime        0\n",
       "passenger_count          98352\n",
       "trip_distance                0\n",
       "RatecodeID               98352\n",
       "store_and_fwd_flag       98352\n",
       "PULocationID                 0\n",
       "DOLocationID                 0\n",
       "payment_type             98352\n",
       "fare_amount                  0\n",
       "extra                        0\n",
       "mta_tax                      0\n",
       "tip_amount                   0\n",
       "tolls_amount                 0\n",
       "improvement_surcharge        0\n",
       "total_amount                 0\n",
       "congestion_surcharge         0\n",
       "dtype: int64"
      ]
     },
     "execution_count": 5,
     "metadata": {},
     "output_type": "execute_result"
    }
   ],
   "source": [
    "#Check missing value\n",
    "df.isnull().sum()"
   ]
  },
  {
   "cell_type": "code",
   "execution_count": 9,
   "id": "ff4f3af4",
   "metadata": {},
   "outputs": [],
   "source": [
    "#Drop NA\n",
    "df=df.dropna()"
   ]
  },
  {
   "cell_type": "code",
   "execution_count": 10,
   "id": "5ff1ce5a",
   "metadata": {},
   "outputs": [],
   "source": [
    "df=df[df['total_amount']>0]"
   ]
  },
  {
   "cell_type": "markdown",
   "id": "047427fa",
   "metadata": {},
   "source": [
    "# Feature Engineering"
   ]
  },
  {
   "cell_type": "code",
   "execution_count": 11,
   "id": "75ff87f5",
   "metadata": {},
   "outputs": [],
   "source": [
    "df['tpep_dropoff_datetime']=df['tpep_dropoff_datetime'].astype('datetime64[ns]')\n",
    "df['tpep_pickup_datetime']=df['tpep_pickup_datetime'].astype('datetime64[ns]')\n",
    "df['VendorID']=df['VendorID'].astype('object')\n",
    "df['RatecodeID']=df['RatecodeID'].astype('object')\n",
    "df['payment_type']=df['payment_type'].astype('object')\n",
    "df['ride_duration_min']= ((df['tpep_dropoff_datetime']-df['tpep_pickup_datetime']))"
   ]
  },
  {
   "cell_type": "code",
   "execution_count": 12,
   "id": "9fdcf523",
   "metadata": {},
   "outputs": [],
   "source": [
    "df['ride_duration_min']=df['ride_duration_min']/ np.timedelta64(1, 'm')"
   ]
  },
  {
   "cell_type": "code",
   "execution_count": 13,
   "id": "50255842",
   "metadata": {},
   "outputs": [
    {
     "name": "stdout",
     "output_type": "stream",
     "text": [
      "<class 'pandas.core.frame.DataFrame'>\n",
      "Int64Index: 1264309 entries, 0 to 1271412\n",
      "Data columns (total 19 columns):\n",
      " #   Column                 Non-Null Count    Dtype         \n",
      "---  ------                 --------------    -----         \n",
      " 0   VendorID               1264309 non-null  object        \n",
      " 1   tpep_pickup_datetime   1264309 non-null  datetime64[ns]\n",
      " 2   tpep_dropoff_datetime  1264309 non-null  datetime64[ns]\n",
      " 3   passenger_count        1264309 non-null  float64       \n",
      " 4   trip_distance          1264309 non-null  float64       \n",
      " 5   RatecodeID             1264309 non-null  object        \n",
      " 6   store_and_fwd_flag     1264309 non-null  object        \n",
      " 7   PULocationID           1264309 non-null  int64         \n",
      " 8   DOLocationID           1264309 non-null  int64         \n",
      " 9   payment_type           1264309 non-null  object        \n",
      " 10  fare_amount            1264309 non-null  float64       \n",
      " 11  extra                  1264309 non-null  float64       \n",
      " 12  mta_tax                1264309 non-null  float64       \n",
      " 13  tip_amount             1264309 non-null  float64       \n",
      " 14  tolls_amount           1264309 non-null  float64       \n",
      " 15  improvement_surcharge  1264309 non-null  float64       \n",
      " 16  total_amount           1264309 non-null  float64       \n",
      " 17  congestion_surcharge   1264309 non-null  float64       \n",
      " 18  ride_duration_min      1264309 non-null  float64       \n",
      "dtypes: datetime64[ns](2), float64(11), int64(2), object(4)\n",
      "memory usage: 192.9+ MB\n"
     ]
    }
   ],
   "source": [
    "df.info()"
   ]
  },
  {
   "cell_type": "code",
   "execution_count": 14,
   "id": "2e2b48c9",
   "metadata": {},
   "outputs": [],
   "source": [
    "df=pd.get_dummies(df,columns=['RatecodeID'])\n",
    "df=pd.get_dummies(df,columns=['payment_type'])\n",
    "df=pd.get_dummies(df,columns=['VendorID'])\n",
    "df=pd.get_dummies(df,columns=['store_and_fwd_flag'])"
   ]
  },
  {
   "cell_type": "code",
   "execution_count": 15,
   "id": "b1f09e42",
   "metadata": {},
   "outputs": [
    {
     "data": {
      "text/html": [
       "<div>\n",
       "<style scoped>\n",
       "    .dataframe tbody tr th:only-of-type {\n",
       "        vertical-align: middle;\n",
       "    }\n",
       "\n",
       "    .dataframe tbody tr th {\n",
       "        vertical-align: top;\n",
       "    }\n",
       "\n",
       "    .dataframe thead th {\n",
       "        text-align: right;\n",
       "    }\n",
       "</style>\n",
       "<table border=\"1\" class=\"dataframe\">\n",
       "  <thead>\n",
       "    <tr style=\"text-align: right;\">\n",
       "      <th></th>\n",
       "      <th>passenger_count</th>\n",
       "      <th>trip_distance</th>\n",
       "      <th>fare_amount</th>\n",
       "      <th>extra</th>\n",
       "      <th>mta_tax</th>\n",
       "      <th>tip_amount</th>\n",
       "      <th>tolls_amount</th>\n",
       "      <th>improvement_surcharge</th>\n",
       "      <th>total_amount</th>\n",
       "      <th>congestion_surcharge</th>\n",
       "      <th>...</th>\n",
       "      <th>RatecodeID_6.0</th>\n",
       "      <th>RatecodeID_99.0</th>\n",
       "      <th>payment_type_1.0</th>\n",
       "      <th>payment_type_2.0</th>\n",
       "      <th>payment_type_3.0</th>\n",
       "      <th>payment_type_4.0</th>\n",
       "      <th>VendorID_1.0</th>\n",
       "      <th>VendorID_2.0</th>\n",
       "      <th>store_and_fwd_flag_N</th>\n",
       "      <th>store_and_fwd_flag_Y</th>\n",
       "    </tr>\n",
       "  </thead>\n",
       "  <tbody>\n",
       "    <tr>\n",
       "      <th>0</th>\n",
       "      <td>1.0</td>\n",
       "      <td>2.10</td>\n",
       "      <td>8.0</td>\n",
       "      <td>3.0</td>\n",
       "      <td>0.5</td>\n",
       "      <td>0.00</td>\n",
       "      <td>0.0</td>\n",
       "      <td>0.3</td>\n",
       "      <td>11.80</td>\n",
       "      <td>2.5</td>\n",
       "      <td>...</td>\n",
       "      <td>0</td>\n",
       "      <td>0</td>\n",
       "      <td>0</td>\n",
       "      <td>1</td>\n",
       "      <td>0</td>\n",
       "      <td>0</td>\n",
       "      <td>1</td>\n",
       "      <td>0</td>\n",
       "      <td>1</td>\n",
       "      <td>0</td>\n",
       "    </tr>\n",
       "    <tr>\n",
       "      <th>1</th>\n",
       "      <td>1.0</td>\n",
       "      <td>0.20</td>\n",
       "      <td>3.0</td>\n",
       "      <td>0.5</td>\n",
       "      <td>0.5</td>\n",
       "      <td>0.00</td>\n",
       "      <td>0.0</td>\n",
       "      <td>0.3</td>\n",
       "      <td>4.30</td>\n",
       "      <td>0.0</td>\n",
       "      <td>...</td>\n",
       "      <td>0</td>\n",
       "      <td>0</td>\n",
       "      <td>0</td>\n",
       "      <td>1</td>\n",
       "      <td>0</td>\n",
       "      <td>0</td>\n",
       "      <td>1</td>\n",
       "      <td>0</td>\n",
       "      <td>1</td>\n",
       "      <td>0</td>\n",
       "    </tr>\n",
       "    <tr>\n",
       "      <th>2</th>\n",
       "      <td>1.0</td>\n",
       "      <td>14.70</td>\n",
       "      <td>42.0</td>\n",
       "      <td>0.5</td>\n",
       "      <td>0.5</td>\n",
       "      <td>8.65</td>\n",
       "      <td>0.0</td>\n",
       "      <td>0.3</td>\n",
       "      <td>51.95</td>\n",
       "      <td>0.0</td>\n",
       "      <td>...</td>\n",
       "      <td>0</td>\n",
       "      <td>0</td>\n",
       "      <td>1</td>\n",
       "      <td>0</td>\n",
       "      <td>0</td>\n",
       "      <td>0</td>\n",
       "      <td>1</td>\n",
       "      <td>0</td>\n",
       "      <td>1</td>\n",
       "      <td>0</td>\n",
       "    </tr>\n",
       "    <tr>\n",
       "      <th>3</th>\n",
       "      <td>0.0</td>\n",
       "      <td>10.60</td>\n",
       "      <td>29.0</td>\n",
       "      <td>0.5</td>\n",
       "      <td>0.5</td>\n",
       "      <td>6.05</td>\n",
       "      <td>0.0</td>\n",
       "      <td>0.3</td>\n",
       "      <td>36.35</td>\n",
       "      <td>0.0</td>\n",
       "      <td>...</td>\n",
       "      <td>0</td>\n",
       "      <td>0</td>\n",
       "      <td>1</td>\n",
       "      <td>0</td>\n",
       "      <td>0</td>\n",
       "      <td>0</td>\n",
       "      <td>1</td>\n",
       "      <td>0</td>\n",
       "      <td>1</td>\n",
       "      <td>0</td>\n",
       "    </tr>\n",
       "    <tr>\n",
       "      <th>4</th>\n",
       "      <td>1.0</td>\n",
       "      <td>4.94</td>\n",
       "      <td>16.5</td>\n",
       "      <td>0.5</td>\n",
       "      <td>0.5</td>\n",
       "      <td>4.06</td>\n",
       "      <td>0.0</td>\n",
       "      <td>0.3</td>\n",
       "      <td>24.36</td>\n",
       "      <td>2.5</td>\n",
       "      <td>...</td>\n",
       "      <td>0</td>\n",
       "      <td>0</td>\n",
       "      <td>1</td>\n",
       "      <td>0</td>\n",
       "      <td>0</td>\n",
       "      <td>0</td>\n",
       "      <td>0</td>\n",
       "      <td>1</td>\n",
       "      <td>1</td>\n",
       "      <td>0</td>\n",
       "    </tr>\n",
       "  </tbody>\n",
       "</table>\n",
       "<p>5 rows × 26 columns</p>\n",
       "</div>"
      ],
      "text/plain": [
       "   passenger_count  trip_distance  fare_amount  extra  mta_tax  tip_amount  \\\n",
       "0              1.0           2.10          8.0    3.0      0.5        0.00   \n",
       "1              1.0           0.20          3.0    0.5      0.5        0.00   \n",
       "2              1.0          14.70         42.0    0.5      0.5        8.65   \n",
       "3              0.0          10.60         29.0    0.5      0.5        6.05   \n",
       "4              1.0           4.94         16.5    0.5      0.5        4.06   \n",
       "\n",
       "   tolls_amount  improvement_surcharge  total_amount  congestion_surcharge  \\\n",
       "0           0.0                    0.3         11.80                   2.5   \n",
       "1           0.0                    0.3          4.30                   0.0   \n",
       "2           0.0                    0.3         51.95                   0.0   \n",
       "3           0.0                    0.3         36.35                   0.0   \n",
       "4           0.0                    0.3         24.36                   2.5   \n",
       "\n",
       "   ...  RatecodeID_6.0  RatecodeID_99.0  payment_type_1.0  payment_type_2.0  \\\n",
       "0  ...               0                0                 0                 1   \n",
       "1  ...               0                0                 0                 1   \n",
       "2  ...               0                0                 1                 0   \n",
       "3  ...               0                0                 1                 0   \n",
       "4  ...               0                0                 1                 0   \n",
       "\n",
       "   payment_type_3.0  payment_type_4.0  VendorID_1.0  VendorID_2.0  \\\n",
       "0                 0                 0             1             0   \n",
       "1                 0                 0             1             0   \n",
       "2                 0                 0             1             0   \n",
       "3                 0                 0             1             0   \n",
       "4                 0                 0             0             1   \n",
       "\n",
       "   store_and_fwd_flag_N  store_and_fwd_flag_Y  \n",
       "0                     1                     0  \n",
       "1                     1                     0  \n",
       "2                     1                     0  \n",
       "3                     1                     0  \n",
       "4                     1                     0  \n",
       "\n",
       "[5 rows x 26 columns]"
      ]
     },
     "execution_count": 15,
     "metadata": {},
     "output_type": "execute_result"
    }
   ],
   "source": [
    "df.drop([\"tpep_pickup_datetime\",\"tpep_dropoff_datetime\",\"PULocationID\",\"DOLocationID\"], axis='columns',inplace=True)\n",
    "df.head()"
   ]
  },
  {
   "cell_type": "markdown",
   "id": "ce07081c",
   "metadata": {},
   "source": [
    "# Train Test Split"
   ]
  },
  {
   "cell_type": "code",
   "execution_count": 16,
   "id": "374834ce",
   "metadata": {},
   "outputs": [],
   "source": [
    "x = df.drop('total_amount',1)\n",
    "y = df.total_amount"
   ]
  },
  {
   "cell_type": "code",
   "execution_count": 17,
   "id": "18d07880",
   "metadata": {},
   "outputs": [],
   "source": [
    "x_train, x_test, y_train, y_test = train_test_split(x,y,test_size=0.2,random_state=42)"
   ]
  },
  {
   "cell_type": "code",
   "execution_count": 18,
   "id": "7278f1cb",
   "metadata": {},
   "outputs": [
    {
     "name": "stdout",
     "output_type": "stream",
     "text": [
      "Shape of X_train:  (1011447, 25)\n",
      "Shape of X_test:  (252862, 25)\n",
      "Shape of y_train:  (1011447,)\n",
      "Shape of y_test (252862,)\n"
     ]
    }
   ],
   "source": [
    "print(\"Shape of X_train: \",x_train.shape)\n",
    "print(\"Shape of X_test: \", x_test.shape)\n",
    "print(\"Shape of y_train: \",y_train.shape)\n",
    "print(\"Shape of y_test\",y_test.shape)"
   ]
  },
  {
   "cell_type": "markdown",
   "id": "21fb1133",
   "metadata": {},
   "source": [
    "# Linear Regression"
   ]
  },
  {
   "cell_type": "code",
   "execution_count": 19,
   "id": "15dd8b28",
   "metadata": {},
   "outputs": [
    {
     "data": {
      "text/plain": [
       "LinearRegression()"
      ]
     },
     "execution_count": 19,
     "metadata": {},
     "output_type": "execute_result"
    }
   ],
   "source": [
    "from sklearn.linear_model import LinearRegression\n",
    "reg = LinearRegression()\n",
    "reg.fit(x_train, y_train)"
   ]
  },
  {
   "cell_type": "code",
   "execution_count": 20,
   "id": "6aef1e68",
   "metadata": {},
   "outputs": [],
   "source": [
    "y_pred_test = reg.predict(x_test)"
   ]
  },
  {
   "cell_type": "code",
   "execution_count": 21,
   "id": "88266249",
   "metadata": {},
   "outputs": [
    {
     "data": {
      "text/plain": [
       "0.08200381764530851"
      ]
     },
     "execution_count": 21,
     "metadata": {},
     "output_type": "execute_result"
    }
   ],
   "source": [
    "mean_squared_error(y_test,y_pred_test)"
   ]
  },
  {
   "cell_type": "markdown",
   "id": "fdff3299",
   "metadata": {},
   "source": [
    "# Regression Tree"
   ]
  },
  {
   "cell_type": "code",
   "execution_count": 22,
   "id": "dc470f3b",
   "metadata": {},
   "outputs": [],
   "source": [
    "from sklearn import tree\n",
    "from sklearn.tree import DecisionTreeRegressor \n",
    "\n",
    "dt = DecisionTreeRegressor()\n",
    "\n",
    "dt.fit(x_train, y_train)\n",
    "y_pred_dt = dt.predict(x_test)"
   ]
  },
  {
   "cell_type": "code",
   "execution_count": 23,
   "id": "fe5bcb62",
   "metadata": {},
   "outputs": [
    {
     "data": {
      "text/plain": [
       "5.974817455049594"
      ]
     },
     "execution_count": 23,
     "metadata": {},
     "output_type": "execute_result"
    }
   ],
   "source": [
    "mean_squared_error(y_test,y_pred_dt)"
   ]
  },
  {
   "cell_type": "code",
   "execution_count": 3,
   "id": "cd02938a",
   "metadata": {},
   "outputs": [],
   "source": [
    "# In addition to the basic models we can also perform hyperparamaeter tuning in order to get better results. \n",
    "# This can be a future enhancement for our project\n",
    "# I have written the code and commented the same as it takes so long to run in the trail version of Sagemaker"
   ]
  },
  {
   "cell_type": "code",
   "execution_count": null,
   "id": "a3a6af9e",
   "metadata": {},
   "outputs": [],
   "source": [
    "x.head()"
   ]
  },
  {
   "cell_type": "code",
   "execution_count": 4,
   "id": "fe6a9d7b",
   "metadata": {},
   "outputs": [],
   "source": [
    "#Function to perform nested Cross Validation"
   ]
  },
  {
   "cell_type": "code",
   "execution_count": 5,
   "id": "47962ec3",
   "metadata": {},
   "outputs": [],
   "source": [
    "#from sklearn.model_selection import GridSearchCV, cross_val_score, KFold"
   ]
  },
  {
   "cell_type": "code",
   "execution_count": 6,
   "id": "a4ae5666",
   "metadata": {},
   "outputs": [],
   "source": [
    "\n",
    "#def hp_tuning (estimator, p_grid, X_train, Y_train): \n",
    "#    NUM_TRIALS = 5\n",
    "#    non_nested_scores = np.zeros(NUM_TRIALS) \n",
    "#    nested_scores = np.zeros(NUM_TRIALS)\n",
    "#    for i in range(NUM_TRIALS):\n",
    "    # Choose cross-validation techniques for the inner and outer loops, # independently of the dataset.\n",
    "    # E.g \"LabelKFold\", \"LeaveOneOut\", \"LeaveOneLabelOut\", etc. \n",
    "    \n",
    "#        inner_cv = KFold(n_splits=4, shuffle=True, random_state=i)\n",
    "#        outer_cv = KFold(n_splits=4, shuffle=True, random_state=i)\n",
    "#        # Non_nested parameter search and scoring\n",
    "#        clf = GridSearchCV(estimator=estimator, param_grid=p_grid, cv=inner_cv, scoring='accuracy') \n",
    "#        clf.fit(X_train, Y_train)\n",
    "#        non_nested_scores[i] = clf.best_score_\n",
    "            # Nested CV with parameter optimization\n",
    "#        nested_score = cross_val_score(clf, X=X_train, y=Y_train, cv=outer_cv) \n",
    "#        nested_scores[i] = nested_score.mean()\n",
    "#    score_difference = non_nested_scores - nested_scores\n",
    "#    print(\"Average R2 of {0:6f} with std. dev. of {1:6f}.\" .format(nested_scores.mean(), nested_scores.std()))\n"
   ]
  },
  {
   "cell_type": "code",
   "execution_count": 7,
   "id": "371c114d",
   "metadata": {},
   "outputs": [],
   "source": [
    "# SVM Regression"
   ]
  },
  {
   "cell_type": "code",
   "execution_count": 8,
   "id": "fd127343",
   "metadata": {},
   "outputs": [],
   "source": [
    "#from sklearn.svm import SVR\n",
    "#p_grid = {\"C\": [1/100, 1/10, 1, 10, 100],\n",
    "          #\"gamma\": [.01, .1]}\n",
    "#        \"kernel\": [\"linear\", \"poly\", \"rbf\", \"sigmoid\"]} \n",
    "#svm = SVR()\n",
    "#Calling the function to perform nested cv (hyper parameter tuning also)\n",
    "#hp_tuning (svm, p_grid, x_train, y_train)"
   ]
  },
  {
   "cell_type": "code",
   "execution_count": 9,
   "id": "cf691f96",
   "metadata": {},
   "outputs": [],
   "source": [
    "# Regression Tree"
   ]
  },
  {
   "cell_type": "code",
   "execution_count": 10,
   "id": "6516b0ae",
   "metadata": {},
   "outputs": [],
   "source": [
    "#from sklearn import tree\n",
    "#from sklearn.tree import DecisionTreeRegressor \n",
    "\n",
    "#dt = DecisionTreeRegressor()\n",
    "\n",
    "#p_grid = {'max_depth': list(np.arange(2, 10)),\n",
    "#          'criterion': [\"squared_error\", \"friedman_mse\", \"poisson\"]}\n",
    "#Calling the function to perform nested cv (hyper parameter tuning also)\n",
    "#hp_tuning (dt, p_grid, X_train, Y_train)"
   ]
  },
  {
   "cell_type": "code",
   "execution_count": 11,
   "id": "5c1a5c98",
   "metadata": {},
   "outputs": [],
   "source": [
    "# Gradient Boosting"
   ]
  },
  {
   "cell_type": "code",
   "execution_count": 12,
   "id": "07ee52fc",
   "metadata": {},
   "outputs": [],
   "source": [
    "#from sklearn import ensemble\n",
    "#import numpy as np\n",
    "\n",
    "#p_grid = {'n_estimators': [10, 20, 50],\n",
    "#    'loss': [\"squared_error\", \"huber\", \"absolute_error\"], 'max_depth': list(np.arange(2, 10))}\n",
    "#gb = ensemble.GradientBoostingRegressor() \n",
    "#hp_tuning (gb, p_grid, X_train, Y_train)"
   ]
  },
  {
   "cell_type": "code",
   "execution_count": 13,
   "id": "a63c3ad3",
   "metadata": {},
   "outputs": [],
   "source": [
    "#### We can compare the results of the nested CV and chose the model with the least MSE as the best model.\n",
    "#### Post that, we perform hypderparameter tuning on the chosen best model and get the best hyperparamters\n",
    "#### then we can predict the taxi fare of the test dataset using this hyperparameter"
   ]
  },
  {
   "cell_type": "code",
   "execution_count": null,
   "id": "56d47795",
   "metadata": {},
   "outputs": [],
   "source": []
  }
 ],
 "metadata": {
  "kernelspec": {
   "display_name": "conda_python3",
   "language": "python",
   "name": "conda_python3"
  },
  "language_info": {
   "codemirror_mode": {
    "name": "ipython",
    "version": 3
   },
   "file_extension": ".py",
   "mimetype": "text/x-python",
   "name": "python",
   "nbconvert_exporter": "python",
   "pygments_lexer": "ipython3",
   "version": "3.6.13"
  }
 },
 "nbformat": 4,
 "nbformat_minor": 5
}
